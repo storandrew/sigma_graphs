{
 "cells": [
  {
   "cell_type": "code",
   "execution_count": 1,
   "metadata": {
    "collapsed": true
   },
   "outputs": [],
   "source": [
    "# работа с числами"
   ]
  },
  {
   "cell_type": "code",
   "execution_count": 2,
   "metadata": {
    "scrolled": true
   },
   "outputs": [
    {
     "name": "stdout",
     "output_type": "stream",
     "text": [
      "число a:  15\n",
      "тип числа:  <class 'int'>\n",
      "умножение на 2:  30\n",
      "прибавление 13:  28\n",
      "возведение в квадрат:  225\n",
      "умножили a на 4:  60\n",
      "деление на 7:  8.571428571428571\n",
      "целочисленное деление на 7:  8\n",
      "остаток от деления на 7:  4\n"
     ]
    }
   ],
   "source": [
    "a = 15\n",
    "print('число a: ', a)\n",
    "print('тип числа: ', type(a))\n",
    "\n",
    "b = a * 2\n",
    "print('умножение на 2: ', b)\n",
    "\n",
    "b = a + 13\n",
    "print('прибавление 13: ', b)\n",
    "\n",
    "b = a ** 2\n",
    "print('возведение в квадрат: ', b)\n",
    "\n",
    "a *= 4 # то же, что и a = a * 4\n",
    "print('умножили a на 4: ', a)\n",
    "\n",
    "print('деление на 7: ', a / 7)\n",
    "\n",
    "print('целочисленное деление на 7: ', a // 7)\n",
    "\n",
    "print('остаток от деления на 7: ', a % 7)"
   ]
  },
  {
   "cell_type": "code",
   "execution_count": 3,
   "metadata": {
    "collapsed": true
   },
   "outputs": [],
   "source": [
    "# строки"
   ]
  },
  {
   "cell_type": "code",
   "execution_count": 4,
   "metadata": {},
   "outputs": [
    {
     "name": "stdout",
     "output_type": "stream",
     "text": [
      "Hello world!\n"
     ]
    }
   ],
   "source": [
    "# объявление, тип кавычек не важен\n",
    "b = 'Hello'\n",
    "c = \"world!\"\n",
    "print(b, c)"
   ]
  },
  {
   "cell_type": "code",
   "execution_count": 5,
   "metadata": {},
   "outputs": [
    {
     "name": "stdout",
     "output_type": "stream",
     "text": [
      "Hello, world!\n"
     ]
    }
   ],
   "source": [
    "# сложение\n",
    "s = b + ', ' + c\n",
    "print(s)"
   ]
  },
  {
   "cell_type": "code",
   "execution_count": 6,
   "metadata": {},
   "outputs": [
    {
     "name": "stdout",
     "output_type": "stream",
     "text": [
      "Hello, world!\n",
      "H\n",
      "e\n",
      "!\n",
      "llo, world!\n",
      "llo\n",
      "Hello, world\n"
     ]
    }
   ],
   "source": [
    "print(s)\n",
    "# срезы\n",
    "print(s[0])\n",
    "print(s[1])\n",
    "print(s[-1])\n",
    "print(s[2:])\n",
    "print(s[2:5])\n",
    "print(s[:-1])"
   ]
  },
  {
   "cell_type": "code",
   "execution_count": 7,
   "metadata": {},
   "outputs": [
    {
     "name": "stdout",
     "output_type": "stream",
     "text": [
      "wow!wow!wow!\n"
     ]
    }
   ],
   "source": [
    "# умножение на натуральное число\n",
    "s = 'wow!'\n",
    "print(s * 3)"
   ]
  },
  {
   "cell_type": "code",
   "execution_count": 8,
   "metadata": {
    "collapsed": true
   },
   "outputs": [],
   "source": [
    "# списки"
   ]
  },
  {
   "cell_type": "code",
   "execution_count": 9,
   "metadata": {},
   "outputs": [
    {
     "name": "stdout",
     "output_type": "stream",
     "text": [
      "[14, 'day', 12.5]\n"
     ]
    }
   ],
   "source": [
    "# объявление и добавление элемента в конец\n",
    "things = []\n",
    "things.append(14)\n",
    "things.append('day')\n",
    "things.append(12.5)\n",
    "print(things)"
   ]
  },
  {
   "cell_type": "code",
   "execution_count": 10,
   "metadata": {},
   "outputs": [
    {
     "name": "stdout",
     "output_type": "stream",
     "text": [
      "<class 'list'>\n",
      "['you', 'are', 'the', 'best']\n"
     ]
    }
   ],
   "source": [
    "# разбиение строки на слова в список\n",
    "s = 'you are the best'\n",
    "words = s.split()\n",
    "print(type(words))\n",
    "print(words)"
   ]
  },
  {
   "cell_type": "code",
   "execution_count": 11,
   "metadata": {},
   "outputs": [
    {
     "name": "stdout",
     "output_type": "stream",
     "text": [
      "<class 'str'>\n",
      "you***are***the***best\n"
     ]
    }
   ],
   "source": [
    "# объединение списка слов в строку\n",
    "new_s = '***'.join(words)\n",
    "print(type(new_s))\n",
    "print(new_s)"
   ]
  },
  {
   "cell_type": "code",
   "execution_count": 12,
   "metadata": {
    "collapsed": true
   },
   "outputs": [],
   "source": [
    "# цикл for"
   ]
  },
  {
   "cell_type": "code",
   "execution_count": 13,
   "metadata": {},
   "outputs": [
    {
     "name": "stdout",
     "output_type": "stream",
     "text": [
      "Hello <class 'str'>\n",
      "12 <class 'int'>\n",
      "True <class 'bool'>\n",
      "14.5 <class 'float'>\n"
     ]
    }
   ],
   "source": [
    "# перебор элементов списка\n",
    "elements = ['Hello', 12, True, 14.5]\n",
    "for item in elements:\n",
    "    print(item, type(item))"
   ]
  },
  {
   "cell_type": "code",
   "execution_count": 14,
   "metadata": {},
   "outputs": [
    {
     "name": "stdout",
     "output_type": "stream",
     "text": [
      "0\n",
      "1\n",
      "4\n",
      "9\n",
      "16\n",
      "25\n",
      "36\n",
      "49\n",
      "64\n",
      "81\n"
     ]
    }
   ],
   "source": [
    "# перебор чисел\n",
    "for i in range(10):\n",
    "    print(i ** 2)"
   ]
  },
  {
   "cell_type": "code",
   "execution_count": 15,
   "metadata": {},
   "outputs": [
    {
     "name": "stdout",
     "output_type": "stream",
     "text": [
      "range(0, 10)\n",
      "<class 'range'>\n"
     ]
    }
   ],
   "source": [
    "print(range(10)) # range - НЕ список\n",
    "print(type(range(10)))"
   ]
  },
  {
   "cell_type": "code",
   "execution_count": 16,
   "metadata": {},
   "outputs": [
    {
     "name": "stdout",
     "output_type": "stream",
     "text": [
      "[0, 1, 2, 3, 4, 5, 6, 7, 8, 9]\n",
      "<class 'list'>\n"
     ]
    }
   ],
   "source": [
    "my_range = list(range(10))\n",
    "print(my_range)\n",
    "print(type(my_range))"
   ]
  },
  {
   "cell_type": "code",
   "execution_count": 17,
   "metadata": {},
   "outputs": [
    {
     "name": "stdout",
     "output_type": "stream",
     "text": [
      "[0, 1, 2, 3, 4, 5, 6, 7, 8, 9]\n"
     ]
    }
   ],
   "source": [
    "# инициализация списка\n",
    "a = [i for i in range(10)]\n",
    "print(a)"
   ]
  },
  {
   "cell_type": "code",
   "execution_count": 18,
   "metadata": {},
   "outputs": [
    {
     "name": "stdout",
     "output_type": "stream",
     "text": [
      "[0, 0, 0, 0, 0, 0, 0, 0, 0, 0]\n"
     ]
    }
   ],
   "source": [
    "b = [0 for i in range(10)]\n",
    "print(b)"
   ]
  },
  {
   "cell_type": "code",
   "execution_count": 19,
   "metadata": {},
   "outputs": [
    {
     "name": "stdout",
     "output_type": "stream",
     "text": [
      "[0, 1, 4, 9, 16, 25, 36, 49, 64, 81]\n"
     ]
    }
   ],
   "source": [
    "c = [i ** 2 for i in range(10)]\n",
    "print(c)"
   ]
  },
  {
   "cell_type": "code",
   "execution_count": 20,
   "metadata": {},
   "outputs": [
    {
     "name": "stdout",
     "output_type": "stream",
     "text": [
      "H\n",
      "e\n",
      "l\n",
      "l\n",
      "o\n",
      "!\n"
     ]
    }
   ],
   "source": [
    "word = 'Hello!'\n",
    "for letter in word:\n",
    "    print(letter)"
   ]
  },
  {
   "cell_type": "code",
   "execution_count": 21,
   "metadata": {},
   "outputs": [
    {
     "name": "stdout",
     "output_type": "stream",
     "text": [
      "['a', 'a', 'a', 'a', 'a', 'a', 'a', 'a', 'a', 'a']\n",
      "10\n",
      "0 a\n",
      "1 a\n",
      "2 a\n",
      "3 a\n",
      "4 a\n",
      "5 a\n",
      "6 a\n",
      "7 a\n",
      "8 a\n",
      "9 a\n"
     ]
    }
   ],
   "source": [
    "# перебор списка через длину\n",
    "my_list = ['a'] * 10\n",
    "print(my_list)\n",
    "print(len(my_list))\n",
    "for i in range(len(my_list)):\n",
    "    print(i, my_list[i])"
   ]
  },
  {
   "cell_type": "code",
   "execution_count": 22,
   "metadata": {
    "collapsed": true
   },
   "outputs": [],
   "source": [
    "# логика"
   ]
  },
  {
   "cell_type": "code",
   "execution_count": 23,
   "metadata": {},
   "outputs": [
    {
     "name": "stdout",
     "output_type": "stream",
     "text": [
      "True False\n"
     ]
    }
   ],
   "source": [
    "t = True\n",
    "f = False\n",
    "print(t, f)"
   ]
  },
  {
   "cell_type": "code",
   "execution_count": 24,
   "metadata": {
    "collapsed": true
   },
   "outputs": [],
   "source": [
    "# логические операции"
   ]
  },
  {
   "cell_type": "code",
   "execution_count": 25,
   "metadata": {},
   "outputs": [
    {
     "name": "stdout",
     "output_type": "stream",
     "text": [
      "False True\n"
     ]
    }
   ],
   "source": [
    "# или\n",
    "print(False or False, True or False)"
   ]
  },
  {
   "cell_type": "code",
   "execution_count": 26,
   "metadata": {},
   "outputs": [
    {
     "name": "stdout",
     "output_type": "stream",
     "text": [
      "False True\n"
     ]
    }
   ],
   "source": [
    "# и\n",
    "print(False and True, True and True)"
   ]
  },
  {
   "cell_type": "code",
   "execution_count": 27,
   "metadata": {},
   "outputs": [
    {
     "name": "stdout",
     "output_type": "stream",
     "text": [
      "True False\n"
     ]
    }
   ],
   "source": [
    "# не\n",
    "print(not False, not True)"
   ]
  },
  {
   "cell_type": "code",
   "execution_count": 28,
   "metadata": {},
   "outputs": [
    {
     "name": "stdout",
     "output_type": "stream",
     "text": [
      "False\n",
      "True\n",
      "False\n",
      "True\n"
     ]
    }
   ],
   "source": [
    "# логические выражения\n",
    "print(4 == 5)\n",
    "print(4 < 5)\n",
    "print(4 >= 5)\n",
    "print(4 != 5)"
   ]
  },
  {
   "cell_type": "code",
   "execution_count": 29,
   "metadata": {},
   "outputs": [
    {
     "name": "stdout",
     "output_type": "stream",
     "text": [
      "четное число: 0\n",
      "четное число: 2\n",
      "четное число: 4\n",
      "четное число: 6\n",
      "четное число: 8\n"
     ]
    }
   ],
   "source": [
    "# условный оператор\n",
    "for i in range(10):\n",
    "    if i % 2 == 0:\n",
    "        print('четное число: ', end='')\n",
    "        print(i)"
   ]
  },
  {
   "cell_type": "code",
   "execution_count": 30,
   "metadata": {},
   "outputs": [
    {
     "name": "stdout",
     "output_type": "stream",
     "text": [
      "четное число:  0\n",
      "нечетное число:  1\n",
      "четное число:  2\n",
      "нечетное число:  3\n",
      "четное число:  4\n",
      "нечетное число:  5\n",
      "четное число:  6\n",
      "нечетное число:  7\n",
      "четное число:  8\n",
      "нечетное число:  9\n"
     ]
    }
   ],
   "source": [
    "# иначе\n",
    "for i in range(10):\n",
    "    if i % 2 == 0:\n",
    "        print('четное число: ', i)\n",
    "    else:\n",
    "        print('нечетное число: ', i)"
   ]
  },
  {
   "cell_type": "code",
   "execution_count": 31,
   "metadata": {},
   "outputs": [
    {
     "name": "stdout",
     "output_type": "stream",
     "text": [
      "делится на три:  0\n",
      "остаток единица:  1\n",
      "остаток двойка 2\n",
      "делится на три:  3\n",
      "остаток единица:  4\n",
      "остаток двойка 5\n",
      "делится на три:  6\n",
      "остаток единица:  7\n",
      "остаток двойка 8\n",
      "делится на три:  9\n"
     ]
    }
   ],
   "source": [
    "# множественное условие\n",
    "for i in range(10):\n",
    "    if i % 3 == 0:\n",
    "        print('делится на три: ', i)\n",
    "    elif i % 3 == 1:\n",
    "        print('остаток единица: ', i)\n",
    "    else:\n",
    "        print('остаток двойка', i)"
   ]
  },
  {
   "cell_type": "code",
   "execution_count": 32,
   "metadata": {},
   "outputs": [
    {
     "name": "stdout",
     "output_type": "stream",
     "text": [
      "0\n",
      "3\n",
      "4\n",
      "6\n",
      "8\n",
      "12\n"
     ]
    }
   ],
   "source": [
    "# сложное условие\n",
    "for i in range(15):\n",
    "    if (i <= 8 and i % 3 == 0) or i % 4 == 0:\n",
    "        print(i)"
   ]
  },
  {
   "cell_type": "code",
   "execution_count": 33,
   "metadata": {},
   "outputs": [
    {
     "name": "stdout",
     "output_type": "stream",
     "text": [
      "1\n",
      "4\n",
      "7\n",
      "10\n",
      "13\n",
      "16\n",
      "19\n",
      "22\n",
      "25\n",
      "28\n",
      "31\n"
     ]
    }
   ],
   "source": [
    "# цикл while\n",
    "i = 1\n",
    "while i % 17 != 0:\n",
    "    print(i)\n",
    "    i += 3"
   ]
  },
  {
   "cell_type": "code",
   "execution_count": 34,
   "metadata": {},
   "outputs": [
    {
     "name": "stdout",
     "output_type": "stream",
     "text": [
      "H\n",
      "e\n",
      "l\n",
      "l\n",
      "o\n"
     ]
    }
   ],
   "source": [
    "# команда break\n",
    "s = 'Hello, world!'\n",
    "for letter in s:\n",
    "    if letter == ',':\n",
    "        break\n",
    "    print(letter)"
   ]
  },
  {
   "cell_type": "code",
   "execution_count": 35,
   "metadata": {},
   "outputs": [
    {
     "name": "stdout",
     "output_type": "stream",
     "text": [
      "H\n",
      "e\n",
      "o\n",
      ",\n",
      " \n",
      "w\n",
      "o\n",
      "r\n",
      "d\n",
      "!\n"
     ]
    }
   ],
   "source": [
    "# команда continue\n",
    "s = 'Hello, world!'\n",
    "for letter in s:\n",
    "    if letter == 'l':\n",
    "        continue\n",
    "    print(letter)"
   ]
  },
  {
   "cell_type": "code",
   "execution_count": 36,
   "metadata": {},
   "outputs": [
    {
     "name": "stdout",
     "output_type": "stream",
     "text": [
      "[[0, 1, 2, 3, 4], [0, 1, 2, 3, 4], [0, 1, 2, 3, 4], [0, 1, 2, 3, 4], [0, 1, 2, 3, 4], [0, 1, 2, 3, 4]]\n"
     ]
    }
   ],
   "source": [
    "# двумерный массив\n",
    "matrix = [[i for i in range(5)] for j in range(6)]\n",
    "print(matrix)"
   ]
  },
  {
   "cell_type": "code",
   "execution_count": 37,
   "metadata": {},
   "outputs": [
    {
     "name": "stdout",
     "output_type": "stream",
     "text": [
      "0\t1\t2\t3\t4\n",
      "0\t1\t2\t3\t4\n",
      "0\t1\t2\t3\t4\n",
      "0\t1\t2\t3\t4\n",
      "0\t1\t2\t3\t4\n",
      "0\t1\t2\t3\t4\n"
     ]
    }
   ],
   "source": [
    "# печать массива\n",
    "matrix = [[i for i in range(5)] for j in range(6)]\n",
    "for i in range(len(matrix)): # перебор строк\n",
    "    for j in range(len(matrix[i])): # перебор по строке\n",
    "        print(matrix[i][j], end='')\n",
    "        if j != len(matrix[i]) - 1:\n",
    "            print('\\t', end='') # символ табуляции для разделения столбцов\n",
    "        else:\n",
    "            print() # переход на новую строку"
   ]
  },
  {
   "cell_type": "code",
   "execution_count": null,
   "metadata": {
    "collapsed": true
   },
   "outputs": [],
   "source": []
  }
 ],
 "metadata": {
  "kernelspec": {
   "display_name": "Python 3",
   "language": "python",
   "name": "python3"
  },
  "language_info": {
   "codemirror_mode": {
    "name": "ipython",
    "version": 3
   },
   "file_extension": ".py",
   "mimetype": "text/x-python",
   "name": "python",
   "nbconvert_exporter": "python",
   "pygments_lexer": "ipython3",
   "version": "3.5.3"
  }
 },
 "nbformat": 4,
 "nbformat_minor": 2
}
